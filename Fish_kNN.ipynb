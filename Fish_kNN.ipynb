{
 "cells": [
  {
   "cell_type": "code",
   "execution_count": 11,
   "id": "7ce2236b-e5e0-4708-85df-d029264ae728",
   "metadata": {},
   "outputs": [
    {
     "data": {
      "text/html": [
       "<div>\n",
       "<style scoped>\n",
       "    .dataframe tbody tr th:only-of-type {\n",
       "        vertical-align: middle;\n",
       "    }\n",
       "\n",
       "    .dataframe tbody tr th {\n",
       "        vertical-align: top;\n",
       "    }\n",
       "\n",
       "    .dataframe thead th {\n",
       "        text-align: right;\n",
       "    }\n",
       "</style>\n",
       "<table border=\"1\" class=\"dataframe\">\n",
       "  <thead>\n",
       "    <tr style=\"text-align: right;\">\n",
       "      <th></th>\n",
       "      <th>Species</th>\n",
       "      <th>Weight</th>\n",
       "      <th>Length1</th>\n",
       "      <th>Length2</th>\n",
       "      <th>Length3</th>\n",
       "      <th>Height</th>\n",
       "      <th>Width</th>\n",
       "    </tr>\n",
       "  </thead>\n",
       "  <tbody>\n",
       "    <tr>\n",
       "      <th>0</th>\n",
       "      <td>Bream</td>\n",
       "      <td>242.0</td>\n",
       "      <td>23.2</td>\n",
       "      <td>25.4</td>\n",
       "      <td>30.0</td>\n",
       "      <td>11.5200</td>\n",
       "      <td>4.0200</td>\n",
       "    </tr>\n",
       "    <tr>\n",
       "      <th>1</th>\n",
       "      <td>Bream</td>\n",
       "      <td>290.0</td>\n",
       "      <td>24.0</td>\n",
       "      <td>26.3</td>\n",
       "      <td>31.2</td>\n",
       "      <td>12.4800</td>\n",
       "      <td>4.3056</td>\n",
       "    </tr>\n",
       "    <tr>\n",
       "      <th>2</th>\n",
       "      <td>Bream</td>\n",
       "      <td>340.0</td>\n",
       "      <td>23.9</td>\n",
       "      <td>26.5</td>\n",
       "      <td>31.1</td>\n",
       "      <td>12.3778</td>\n",
       "      <td>4.6961</td>\n",
       "    </tr>\n",
       "    <tr>\n",
       "      <th>3</th>\n",
       "      <td>Bream</td>\n",
       "      <td>363.0</td>\n",
       "      <td>26.3</td>\n",
       "      <td>29.0</td>\n",
       "      <td>33.5</td>\n",
       "      <td>12.7300</td>\n",
       "      <td>4.4555</td>\n",
       "    </tr>\n",
       "    <tr>\n",
       "      <th>4</th>\n",
       "      <td>Bream</td>\n",
       "      <td>430.0</td>\n",
       "      <td>26.5</td>\n",
       "      <td>29.0</td>\n",
       "      <td>34.0</td>\n",
       "      <td>12.4440</td>\n",
       "      <td>5.1340</td>\n",
       "    </tr>\n",
       "  </tbody>\n",
       "</table>\n",
       "</div>"
      ],
      "text/plain": [
       "  Species  Weight  Length1  Length2  Length3   Height   Width\n",
       "0   Bream   242.0     23.2     25.4     30.0  11.5200  4.0200\n",
       "1   Bream   290.0     24.0     26.3     31.2  12.4800  4.3056\n",
       "2   Bream   340.0     23.9     26.5     31.1  12.3778  4.6961\n",
       "3   Bream   363.0     26.3     29.0     33.5  12.7300  4.4555\n",
       "4   Bream   430.0     26.5     29.0     34.0  12.4440  5.1340"
      ]
     },
     "execution_count": 11,
     "metadata": {},
     "output_type": "execute_result"
    }
   ],
   "source": [
    "import pandas as pd\n",
    "\n",
    "k_data = pd.read_csv(r\"C:\\Users\\전대혁\\TEST_Lab\\machine-learning-master\\data\\csv\\Fish.csv\")\n",
    "k_data.head()"
   ]
  },
  {
   "cell_type": "code",
   "execution_count": 4,
   "id": "5cf137b3-750c-4d52-b0e5-93d51eb00e97",
   "metadata": {},
   "outputs": [],
   "source": [
    "# Species의 데이터를 가져온 후 Parkki의 Weight, Length3를 P_w의 데이터 인덱싱\n",
    "p_w = list(k_data.loc[k_data['Species'] == 'Parkki']['Weight'])\n",
    "# \n",
    "p_l = list(k_data.loc[k_data['Species'] == 'Parkki']['Length3'])\n",
    "\n",
    "s_w = list(k_data.loc[k_data['Species'] == 'Smelt']['Weight'])\n",
    "s_l = list(k_data.loc[k_data['Species'] == 'Smelt']['Length3'])"
   ]
  },
  {
   "cell_type": "code",
   "execution_count": 5,
   "id": "3e5baa78-0bef-4b1b-8b27-a5594410a601",
   "metadata": {},
   "outputs": [
    {
     "data": {
      "image/png": "[encoded data removed]",
      "text/plain": [
       "<Figure size 640x480 with 1 Axes>"
      ]
     },
     "metadata": {},
     "output_type": "display_data"
    }
   ],
   "source": [
    "import matplotlib.pyplot as plt\n",
    "\n",
    "plt.scatter(p_l, p_w, label='Parkki')\n",
    "plt.scatter(s_l, s_w, label='Smelt')\n",
    "plt.xlabel('length3')\n",
    "plt.ylabel('weigth')\n",
    "plt.legend()\n",
    "plt.show()"
   ]
  },
  {
   "cell_type": "code",
   "execution_count": 6,
   "id": "0e50018c-7e42-4bf0-9df8-b555bebd0b11",
   "metadata": {},
   "outputs": [],
   "source": [
    "import numpy as np\n",
    "\n",
    "f_l = p_l + s_l\n",
    "f_w = p_w + s_w\n",
    "\n",
    "f_data = np.column_stack((f_l, f_w))"
   ]
  },
  {
   "cell_type": "code",
   "execution_count": 7,
   "id": "f62f4de1-38a2-4e11-9aff-f9ba2e1c6d54",
   "metadata": {},
   "outputs": [],
   "source": [
    "f_t = np.concatenate((np.ones(len(p_w)), np.zeros(len(s_w))))"
   ]
  },
  {
   "cell_type": "code",
   "execution_count": 8,
   "id": "5c0d66cb-b34d-4a4a-9ae8-e4e02937c164",
   "metadata": {},
   "outputs": [],
   "source": [
    "from sklearn.model_selection import train_test_split\n",
    "\n",
    "train_input, test_input, train_target, test_target = train_test_split(\n",
    "    f_data, f_t, stratify=f_t\n",
    ")"
   ]
  },
  {
   "cell_type": "code",
   "execution_count": 9,
   "id": "f68589b4-31ac-4dcc-a7b8-bc2f160ad00d",
   "metadata": {},
   "outputs": [],
   "source": [
    "mean = np.mean(train_input, axis=0)\n",
    "std = np.std(train_input, axis=0)\n",
    "\n",
    "train_scaled = (train_input - mean) / std"
   ]
  },
  {
   "cell_type": "code",
   "execution_count": 10,
   "id": "b51c83df-4545-4170-9e5d-0f86a1478f1a",
   "metadata": {},
   "outputs": [
    {
     "name": "stdout",
     "output_type": "stream",
     "text": [
      "[[1.99798493 2.31016966]\n",
      " [1.82524848 2.02678481]]\n"
     ]
    }
   ],
   "source": [
    "outline = []\n",
    "for i, sample in enumerate(train_scaled):\n",
    "    for n in sample:\n",
    "        if abs(n) >= 2:\n",
    "            outline.append(i)\n",
    "            break\n",
    "print(train_scaled[outline])"
   ]
  },
  {
   "cell_type": "code",
   "execution_count": 27,
   "id": "5e87b3b4-aaba-47e1-bf45-86f82a3511ac",
   "metadata": {},
   "outputs": [],
   "source": [
    "train_input = np.delete(train_input, outline, axis=0)\n",
    "train_target = np.delete(train_target, outline, axis=0)"
   ]
  },
  {
   "cell_type": "code",
   "execution_count": 28,
   "id": "d719aa64-0bdd-4fe6-aa17-19b4cd2a5453",
   "metadata": {},
   "outputs": [
    {
     "data": {
      "text/plain": [
       "0.8571428571428571"
      ]
     },
     "execution_count": 28,
     "metadata": {},
     "output_type": "execute_result"
    }
   ],
   "source": [
    "from sklearn.neighbors import KNeighborsClassifier\n",
    "\n",
    "kn = KNeighborsClassifier()\n",
    "\n",
    "kn.fit(train_input, train_target)\n",
    "kn.score(test_input, test_target)"
   ]
  },
  {
   "cell_type": "code",
   "execution_count": 33,
   "id": "ce59fba3-9784-4ecb-8302-9dae3ace12aa",
   "metadata": {},
   "outputs": [
    {
     "data": {
      "image/png": "[encoded data removed]",
      "text/plain": [
       "<Figure size 640x480 with 1 Axes>"
      ]
     },
     "metadata": {},
     "output_type": "display_data"
    }
   ],
   "source": [
    "plt.scatter(p_l, p_w, label='Parkki')\n",
    "plt.scatter(s_l, s_w, label='Smelt')\n",
    "plt.scatter(20, 100, marker='^', color='red', label='New Data')\n",
    "plt.xlabel('length')\n",
    "plt.ylabel('weigth')\n",
    "plt.legend()\n",
    "plt.show()"
   ]
  },
  {
   "cell_type": "code",
   "execution_count": 37,
   "id": "e430b66d-d880-41de-8ecc-14df1f828a52",
   "metadata": {},
   "outputs": [
    {
     "name": "stdout",
     "output_type": "stream",
     "text": [
      "[1.]\n"
     ]
    }
   ],
   "source": [
    "predict = kn.predict([[20, 100]])\n",
    "print(predict)"
   ]
  }
 ],
 "metadata": {
  "kernelspec": {
   "display_name": "Python 3 (ipykernel)",
   "language": "python",
   "name": "python3"
  },
  "language_info": {
   "codemirror_mode": {
    "name": "ipython",
    "version": 3
   },
   "file_extension": ".py",
   "mimetype": "text/x-python",
   "name": "python",
   "nbconvert_exporter": "python",
   "pygments_lexer": "ipython3",
   "version": "3.10.14"
  }
 },
 "nbformat": 4,
 "nbformat_minor": 5
}
